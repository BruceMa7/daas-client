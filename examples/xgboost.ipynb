{
 "cells": [
  {
   "cell_type": "code",
   "execution_count": null,
   "metadata": {},
   "outputs": [],
   "source": [
    "from sklearn import datasets\n",
    "import pandas as pd\n",
    "\n",
    "# Load the iris dataset (classification)\n",
    "iris = datasets.load_iris()\n",
    "iris_target_name = 'Species'\n",
    "iris_feature_names = iris.feature_names\n",
    "iris_df = pd.DataFrame(iris.data, columns=iris_feature_names)\n",
    "iris_df[iris_target_name] = iris.target"
   ]
  },
  {
   "cell_type": "code",
   "execution_count": null,
   "metadata": {
    "scrolled": true
   },
   "outputs": [],
   "source": [
    "from sklearn.model_selection import train_test_split\n",
    "from xgboost import XGBClassifier\n",
    "\n",
    "seed = 123456\n",
    "X, y = iris_df[iris_feature_names], iris_df[iris_target_name]\n",
    "X_train, X_test, y_train, y_test = train_test_split(X, y, test_size=0.33, random_state=seed)\n",
    "\n",
    "# Train a multi-class model\n",
    "model = XGBClassifier(max_depth=3, objective='multi:softprob', seed=seed)\n",
    "model.fit(X_train, y_train)"
   ]
  },
  {
   "cell_type": "code",
   "execution_count": null,
   "metadata": {},
   "outputs": [],
   "source": [
    "from daas_client import DaasClient\n",
    "\n",
    "# Please, change to your URL of Daas server, and credentials\n",
    "url = 'https://192.168.64.3:31753'\n",
    "username = 'admin'\n",
    "password = 'password'\n",
    "project = 'Examples'\n",
    "\n",
    "# Initiate a client of DaaS server, and set the created \"Examples\" project\n",
    "client = DaasClient(url, username, password)\n",
    "if not client.project_exists(project):\n",
    "    client.create_project(project, 'examples', 'This is an example project')\n",
    "client.set_project(project)"
   ]
  },
  {
   "cell_type": "code",
   "execution_count": null,
   "metadata": {
    "scrolled": false
   },
   "outputs": [],
   "source": [
    "from pprint import pprint\n",
    "\n",
    "model_name = 'xgboost-cls'\n",
    "\n",
    "# Publish the built model into DaaS\n",
    "publish_resp = client.publish(model,\n",
    "                              name=model_name,\n",
    "                              mining_function='classification',\n",
    "                              x_test=X_test,\n",
    "                              y_test=y_test,\n",
    "                              description='A XGBoost classification model')\n",
    "pprint(publish_resp)"
   ]
  },
  {
   "cell_type": "code",
   "execution_count": null,
   "metadata": {},
   "outputs": [],
   "source": [
    "# Try to test the published model\n",
    "test_resp = client.test(model_name, model_version=publish_resp['model_version'])\n",
    "pprint(test_resp)"
   ]
  },
  {
   "cell_type": "code",
   "execution_count": null,
   "metadata": {},
   "outputs": [],
   "source": [
    "# Call the test REST API above, 'model_name' is required in payload because the test runtime serves multiple models \n",
    "# in a project. \n",
    "import requests\n",
    "\n",
    "bearer_token = 'Bearer {token}'.format(token=test_resp['access_token'])\n",
    "payload = {\n",
    "    'args': {'X': [{'petal length (cm)': 1.5,\n",
    "                    'petal width (cm)': 0.4,\n",
    "                    'sepal length (cm)': 5.7,\n",
    "                    'sepal width (cm)': 4.4}],\n",
    "             'model_name': model_name,\n",
    "             'model_version': publish_resp['model_version']}}\n",
    "\n",
    "response = requests.post(test_resp['endpoint_url'],\n",
    "                         headers={'Authorization': bearer_token},\n",
    "                         json=payload,\n",
    "                         verify=False)\n",
    "pprint(response.json())"
   ]
  },
  {
   "cell_type": "code",
   "execution_count": null,
   "metadata": {},
   "outputs": [],
   "source": [
    "# Deploy the published model into product\n",
    "deploy_resp = client.deploy(model_name, \n",
    "                            deployment_name=model_name + '-svc',\n",
    "                            model_version=publish_resp['model_version'])\n",
    "pprint(deploy_resp)"
   ]
  },
  {
   "cell_type": "code",
   "execution_count": null,
   "metadata": {},
   "outputs": [],
   "source": [
    "# Call the product REST API above, the deployment runtime(s) serve the deployed model dedicatedly.\n",
    "deploy_bearer_token = 'Bearer {token}'.format(token=deploy_resp['access_token'])\n",
    "deploy_payload = {'args': {'X': [{'petal length (cm)': 1.5,\n",
    "                             'petal width (cm)': 0.4,\n",
    "                             'sepal length (cm)': 5.7,\n",
    "                             'sepal width (cm)': 4.4}]}}\n",
    "\n",
    "response = requests.post(deploy_resp['endpoint_url'],\n",
    "                         headers={'Authorization': deploy_bearer_token},\n",
    "                         json=deploy_payload,\n",
    "                         verify=False)\n",
    "pprint(response.json())"
   ]
  },
  {
   "cell_type": "code",
   "execution_count": null,
   "metadata": {},
   "outputs": [],
   "source": []
  }
 ],
 "metadata": {
  "kernelspec": {
   "display_name": "Python 3",
   "language": "python",
   "name": "python3"
  },
  "language_info": {
   "codemirror_mode": {
    "name": "ipython",
    "version": 3
   },
   "file_extension": ".py",
   "mimetype": "text/x-python",
   "name": "python",
   "nbconvert_exporter": "python",
   "pygments_lexer": "ipython3",
   "version": "3.7.0"
  }
 },
 "nbformat": 4,
 "nbformat_minor": 2
}
